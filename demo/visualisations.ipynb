{
 "cells": [
  {
   "cell_type": "markdown",
   "metadata": {},
   "source": [
    "# Visualizations"
   ]
  },
  {
   "cell_type": "code",
   "execution_count": null,
   "metadata": {},
   "outputs": [],
   "source": [
    "import re\n",
    "import matplotlib.pyplot as plt\n",
    "import seaborn as sns\n",
    "from html2text import html2text\n",
    "from wordcloud import WordCloud, STOPWORDS\n"
   ]
  },
  {
   "cell_type": "markdown",
   "metadata": {},
   "source": [
    "## Pandas Dataframes\n",
    "\n",
    "We can use [django pandas](https://github.com/chrisdev/django-pandas) to create data frames from django models.\n",
    "\n",
    "By overriding the default manager of a model with a `django_pandas.managers.DataFrameManager` you can use its `to_dataframe` method for creating data frames."
   ]
  },
  {
   "cell_type": "code",
   "execution_count": null,
   "metadata": {},
   "outputs": [],
   "source": [
    "df = MeetupEvent.objects.filter(group__urlname=\"Django-Vienna\").annotate(\n",
    "    visitors=Count(\"attendants\")\n",
    ").order_by(\"event_date\").to_dataframe(\n",
    "    [\"name\", \"venue\", \"visitors\"], index=\"event_date\"\n",
    ")\n",
    "df"
   ]
  },
  {
   "cell_type": "markdown",
   "metadata": {},
   "source": [
    "With matplotlib installed it is very easy to generate charts from dataframes by calling there `plot` method"
   ]
  },
  {
   "cell_type": "code",
   "execution_count": null,
   "metadata": {},
   "outputs": [],
   "source": [
    "sns.set_style(\"whitegrid\")\n",
    "p = df.plot(kind=\"bar\", figsize=(16,10), title=\"Visitors at Django-Vienna meetups\")\n",
    "\n"
   ]
  },
  {
   "cell_type": "markdown",
   "metadata": {},
   "source": [
    "## Creating word clouds\n",
    "\n",
    "Lets create word clouds with [WordCloud](https://amueller.github.io/word_cloud/)"
   ]
  },
  {
   "cell_type": "markdown",
   "metadata": {},
   "source": [
    "### A word cloud of most regular meetup participants"
   ]
  },
  {
   "cell_type": "code",
   "execution_count": null,
   "metadata": {},
   "outputs": [],
   "source": [
    "MeetupMember.objects.annotate(visits=Count(\"events\")).values_list(\n",
    "    \"name\", \"visits\"\n",
    ").order_by(\"-visits\").to_dataframe([\"visits\"], index=\"name\").head(n=10)\n"
   ]
  },
  {
   "cell_type": "code",
   "execution_count": null,
   "metadata": {},
   "outputs": [],
   "source": [
    "# create a dictionary with member names and their visits\n",
    "frequencies = dict(MeetupMember.objects.annotate(visits=Count(\"events\")).values_list(\"name\", \"visits\"))\n",
    "\n",
    "visitorcloud = WordCloud(width=700, height=700).fit_words(frequencies)\n",
    "\n",
    "plt.figure(figsize=(16, 16))\n",
    "plt.imshow(visitorcloud, interpolation='bilinear')\n",
    "plt.axis(\"off\")\n",
    "plt.show()"
   ]
  },
  {
   "cell_type": "markdown",
   "metadata": {},
   "source": [
    "### A word cloud of all words used in the events descriptions"
   ]
  },
  {
   "cell_type": "code",
   "execution_count": null,
   "metadata": {},
   "outputs": [],
   "source": [
    "grp = MeetupGroup.objects.get(urlname=\"Django-Vienna\")\n",
    "text = html2text(grp.description)\n",
    "\n",
    "# create a big text containing the meetup groups description + the description of all their events.\n",
    "for event in grp.events.all():\n",
    "    if event.description:\n",
    "        text += \" \" + html2text(event.description)\n",
    "\n",
    "# remove newlines and some characters\n",
    "replace_patter = r\"[\\s~*!\\?\\\\\\[\\]\\(\\)<>]+\"\n",
    "text = re.sub(replace_patter, \" \", text)\n",
    "text"
   ]
  },
  {
   "cell_type": "code",
   "execution_count": null,
   "metadata": {},
   "outputs": [],
   "source": [
    "stopwords = {\"https\", \"http\"}\n",
    "\n",
    "descriptions = WordCloud(\n",
    "    width=1000, \n",
    "    height=500, \n",
    "    relative_scaling=.5, \n",
    "    stopwords=STOPWORDS | stopwords\n",
    ").generate(text)\n",
    "\n",
    "plt.figure(figsize=(16,8))\n",
    "plt.imshow(descriptions, interpolation='bilinear')\n",
    "plt.axis(\"off\")\n",
    "plt.show()"
   ]
  }
 ],
 "metadata": {
  "kernelspec": {
   "display_name": "Django Shell-Plus",
   "language": "python",
   "name": "django_extensions"
  },
  "language_info": {
   "codemirror_mode": {
    "name": "ipython",
    "version": 3
   },
   "file_extension": ".py",
   "mimetype": "text/x-python",
   "name": "python",
   "nbconvert_exporter": "python",
   "pygments_lexer": "ipython3",
   "version": "3.7.2"
  }
 },
 "nbformat": 4,
 "nbformat_minor": 2
}
