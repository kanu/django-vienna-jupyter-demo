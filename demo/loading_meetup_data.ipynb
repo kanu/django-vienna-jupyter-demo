{
 "cells": [
  {
   "cell_type": "markdown",
   "metadata": {},
   "source": [
    "# Loading meetup data"
   ]
  },
  {
   "cell_type": "code",
   "execution_count": null,
   "metadata": {},
   "outputs": [],
   "source": [
    "import os\n",
    "import json\n",
    "from typing import Tuple\n",
    "from requests import Response\n",
    "from functools import partial\n",
    "from ipywidgets import widgets, interact_manual, ToggleButtons\n",
    "from IPython.display import display, Code, Markdown, HTML, update_display, TextDisplayObject, display_html, Pretty\n",
    "\n",
    "# project imports\n",
    "from meetup.api import Client, RequestException"
   ]
  },
  {
   "cell_type": "markdown",
   "metadata": {},
   "source": [
    "## Meetup api key\n",
    "\n",
    "Requests to the meetup.com api need to be authenticated. The easiest way is to grab an api key that allows you to use the endpoints with your meetup account.\n",
    "\n",
    "Get your meetup api key from https://secure.meetup.com/meetup_api/key/ and set it as `MEETUP_API_KEY`."
   ]
  },
  {
   "cell_type": "code",
   "execution_count": null,
   "metadata": {
    "scrolled": true
   },
   "outputs": [],
   "source": [
    "MEETUP_API_KEY = os.environ[\"MEETUP_API_KEY\"]\n",
    "\n",
    "# Create a Client instance with the api key\n",
    "client = Client(MEETUP_API_KEY)\n",
    "\n",
    "# make a test call to the '/dashboard' endpoint.\n",
    "response = client.get(\"/dashboard\")\n",
    "fmt = response.status_code == 200 and \"**\" or \"~~\"\n",
    "\n",
    "# render a success message in markdown\n",
    "display(Markdown(f\"{fmt}IT WORKED{fmt}\"))\n",
    "\n",
    "# render the response text as json code\n",
    "display(Code(response.text, language=\"json\"))"
   ]
  },
  {
   "cell_type": "markdown",
   "metadata": {},
   "source": [
    "### Create a MeetupGroup\n",
    "\n",
    "\n",
    "\n",
    "The simplest way to create input elements is to use `ipywidgets.widgets.interact_manual` as decorator.\n",
    "It will render input fields depending on the used kwargs together with an \"Run interact\" button that will call the decorated function when pressed."
   ]
  },
  {
   "cell_type": "code",
   "execution_count": null,
   "metadata": {},
   "outputs": [],
   "source": [
    "def create_group(data: dict) -> Tuple[MeetupGroup, bool]:\n",
    "    \"\"\"\n",
    "    Create or update a group with the data from the group enpoint.\n",
    "    \"\"\"\n",
    "    return MeetupGroup.objects.update_or_create(\n",
    "        urlname=data[\"urlname\"], \n",
    "        defaults={\n",
    "            \"uid\":data[\"id\"],\n",
    "            \"name\":data[\"name\"],\n",
    "            \"link\":data[\"link\"],\n",
    "            \"members_count\":data[\"members\"]\n",
    "        }\n",
    "    )\n",
    "\n",
    "\n",
    "def create_event(data: dict, group: MeetupGroup) -> Tuple[MeetupEvent, bool]:\n",
    "    \"\"\"\n",
    "    Create or update a event with the data from the group enpoint.\n",
    "    \"\"\"\n",
    "    return MeetupEvent.objects.update_or_create(\n",
    "        uid=data[\"id\"],\n",
    "        defaults={\n",
    "            \"group\": group,\n",
    "            \"name\": data[\"name\"],\n",
    "            \"description\": data.get(\"description\",\"\"),\n",
    "            \"event_date\": data[\"local_date\"],\n",
    "            \"rsvp_count\": data[\"yes_rsvp_count\"],\n",
    "            \"link\": data[\"link\"],\n",
    "            \"venue\": data[\"venue\"][\"name\"],\n",
    "        }\n",
    "    )\n",
    "\n",
    "\n",
    "def create_member(data: dict) -> Tuple[MeetupMember, bool]:\n",
    "    \"\"\"\n",
    "    Create or update a Meetup Member.\n",
    "    \"\"\"\n",
    "    return MeetupMember.objects.update_or_create(\n",
    "        uid=data[\"id\"],\n",
    "        defaults={\n",
    "            \"name\": data[\"name\"],\n",
    "            \"photo\": data.get(\"photo\", {}).get(\"thumb_link\", None)\n",
    "        }\n",
    "    )\n"
   ]
  },
  {
   "cell_type": "code",
   "execution_count": null,
   "metadata": {},
   "outputs": [],
   "source": [
    "@interact_manual(urlname=\"Django-Vienna\")\n",
    "def view_group(urlname: str) -> MeetupGroup:\n",
    "\n",
    "    try:\n",
    "        data = client.get_group(urlname)\n",
    "    except RequestException as e:\n",
    "        display(Code(e.args[0], language=\"json\"))\n",
    "        return\n",
    "\n",
    "    displays = {\n",
    "        \"Description\": HTML(data[\"description\"]),\n",
    "        \"Json\": Code(json.dumps(data, indent=4), language=\"json\")\n",
    "    }\n",
    "    \n",
    "    toggles = ToggleButtons(options=displays.keys(), value=list(displays.keys())[0])\n",
    "    display(Markdown(f\"## [{data['name']}]({data['link']})\"))\n",
    "    display(toggles)\n",
    "    display(None, display_id=\"response\")\n",
    "    \n",
    "    def udpate_response(event):\n",
    "        update_display(displays[toggles.value], display_id=\"response\")\n",
    "\n",
    "    toggles.observe(udpate_response)\n",
    "    udpate_response(None)\n",
    "\n",
    "    exists = MeetupGroup.objects.filter(urlname=urlname).exists()\n",
    "    button_save = widgets.Button(description=f\"{exists and 'update' or 'create'} group\")\n",
    "    display(button_save)\n",
    "\n",
    "    def _create(btn):\n",
    "        group, created = create_group(data)\n",
    "        display(f\"Meetupgroup {group} {created and 'created' or 'updated'}.\")\n",
    "\n",
    "    button_save.on_click(_create)\n"
   ]
  },
  {
   "cell_type": "markdown",
   "metadata": {},
   "source": [
    "We should end up with a MeetupGroup instance."
   ]
  },
  {
   "cell_type": "code",
   "execution_count": null,
   "metadata": {},
   "outputs": [],
   "source": [
    "MeetupGroup.objects.all()"
   ]
  },
  {
   "cell_type": "markdown",
   "metadata": {},
   "source": [
    "### Create the MeetupEvents and their MeetupMembers of the meetup group"
   ]
  },
  {
   "cell_type": "code",
   "execution_count": null,
   "metadata": {},
   "outputs": [],
   "source": [
    "def get_group_events(group):\n",
    "    member_cache = {}\n",
    "\n",
    "    for event_data in client.get_group_events(group.urlname):\n",
    "        # create the event object\n",
    "        event, created = create_event(event_data, group)\n",
    "        action = created and \"created\" or \"updated\"\n",
    "        display(Pretty(f\"{action} MeetupEvent {event.name}\"))\n",
    "        \n",
    "        # load the attendends\n",
    "        for attendance in client.get_event_attendance(group.urlname, event.uid):\n",
    "            if attendance[\"rsvp\"][\"response\"] != \"yes\":\n",
    "                print(f'skipping {attendance[\"member\"][\"name\"]}: rsvp was \"{attendance[\"rsvp\"][\"response\"]}\"')\n",
    "                continue\n",
    "\n",
    "            member_data = attendance[\"member\"]\n",
    "            if member_data[\"id\"] in member_cache:\n",
    "                member = member_cache[member_data[\"id\"]]\n",
    "            else:\n",
    "                member, created = create_member(member_data)\n",
    "                member_cache[member_data[\"id\"]] = member\n",
    "\n",
    "            event.attendants.add(member)\n",
    "            print(f'added {member.name}.')\n",
    "                "
   ]
  },
  {
   "cell_type": "code",
   "execution_count": null,
   "metadata": {},
   "outputs": [],
   "source": [
    "get_group_events(MeetupGroup.objects.first())"
   ]
  },
  {
   "cell_type": "code",
   "execution_count": null,
   "metadata": {},
   "outputs": [],
   "source": [
    "MeetupEvent.objects.all()"
   ]
  },
  {
   "cell_type": "code",
   "execution_count": null,
   "metadata": {},
   "outputs": [],
   "source": [
    "MeetupMember.objects.all()"
   ]
  },
  {
   "cell_type": "code",
   "execution_count": null,
   "metadata": {},
   "outputs": [],
   "source": [
    "MeetupMember.objects.count()"
   ]
  }
 ],
 "metadata": {
  "kernelspec": {
   "display_name": "Django Shell-Plus",
   "language": "python",
   "name": "django_extensions"
  },
  "language_info": {
   "codemirror_mode": {
    "name": "ipython",
    "version": 3
   },
   "file_extension": ".py",
   "mimetype": "text/x-python",
   "name": "python",
   "nbconvert_exporter": "python",
   "pygments_lexer": "ipython3",
   "version": "3.7.2"
  }
 },
 "nbformat": 4,
 "nbformat_minor": 2
}
