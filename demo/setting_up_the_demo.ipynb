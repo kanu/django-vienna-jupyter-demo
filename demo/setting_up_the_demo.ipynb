{
 "cells": [
  {
   "cell_type": "markdown",
   "metadata": {},
   "source": [
    "# Setting up the Demo\n",
    "\n",
    "The demo project has an app `meetup` with the following models.\n",
    "* MeetupGroup - a group like [Django Friends Vienna](https://www.meetup.com/Django-Vienna/)\n",
    "* MeetupEvent - a event like [Django-Vienna 03/2019](https://www.meetup.com/Django-Vienna/events/258504115/)\n",
    "* MeetupMember - somebody like [me](https://www.meetup.com/members/120810062/)\n",
    "* MeetupEvent.attendants - a m2m for attendants of a meetup event."
   ]
  },
  {
   "cell_type": "code",
   "execution_count": null,
   "metadata": {},
   "outputs": [],
   "source": [
    "!python manage.py graph_models meetup -o meetup_graph.png"
   ]
  },
  {
   "cell_type": "code",
   "execution_count": null,
   "metadata": {},
   "outputs": [],
   "source": [
    "from IPython.display import Image, display\n",
    "try:\n",
    "    display(Image(\"meetup_graph.png\"))\n",
    "except Exception:\n",
    "    pass\n"
   ]
  },
  {
   "cell_type": "markdown",
   "metadata": {},
   "source": [
    "### Preparing the database\n",
    "\n",
    "The meetup app is missing the migration. We will need to create one and install it."
   ]
  },
  {
   "cell_type": "code",
   "execution_count": null,
   "metadata": {},
   "outputs": [],
   "source": [
    "!python manage.py showmigrations meetup"
   ]
  },
  {
   "cell_type": "code",
   "execution_count": null,
   "metadata": {},
   "outputs": [],
   "source": [
    "!python manage.py makemigrations meetup"
   ]
  },
  {
   "cell_type": "code",
   "execution_count": null,
   "metadata": {},
   "outputs": [],
   "source": [
    "!python manage.py migrate"
   ]
  },
  {
   "cell_type": "markdown",
   "metadata": {},
   "source": [
    "### Django is ready\n",
    "\n",
    "Lets add a MeetupGroup next!\n"
   ]
  }
 ],
 "metadata": {
  "kernelspec": {
   "display_name": "Django Shell-Plus",
   "language": "python",
   "name": "django_extensions"
  },
  "language_info": {
   "codemirror_mode": {
    "name": "ipython",
    "version": 3
   },
   "file_extension": ".py",
   "mimetype": "text/x-python",
   "name": "python",
   "nbconvert_exporter": "python",
   "pygments_lexer": "ipython3",
   "version": "3.7.2"
  }
 },
 "nbformat": 4,
 "nbformat_minor": 2
}
